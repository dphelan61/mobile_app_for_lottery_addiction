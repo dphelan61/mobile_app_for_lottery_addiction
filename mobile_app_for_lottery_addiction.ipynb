{
 "cells": [
  {
   "cell_type": "markdown",
   "metadata": {},
   "source": [
    "# Logic Development for Mobile App Combatting Lottery Addiction\n",
    "\n",
    "In this project, we'll be developing the logic for a mobile app that would be built and used for helping folks overcome gambling addiction, particularly focusing on the lottery.\n",
    "\n",
    "We'll be using the 6/49 lottery (see below for more info) to provide users answers to the following questions:\n",
    "\n",
    "- What is the probability of winning the big prize?\n",
    "- What is the probability of winning the big prize if we play X number of tickets?\n",
    "- What is the probability of having at least X winning numbers on a single ticket?\n",
    "\n",
    "More info on 6/49 lottery: https://en.wikipedia.org/wiki/Lotto_6/49\n",
    "\n",
    "In addition to developing the above scenarios to show folks the probability of meeting the criteria above, we'll also be looking at historical data from the 6/49 lottery provided by kaggle. A link to the data is below:\n",
    "> https://www.kaggle.com/datascienceai/lottery-dataset\n",
    "\n",
    "## Quick Note about the 6/49 Lottery\n",
    "\n",
    "In the 6/49 lottery, 6 numbers are drawn from a set of 49 numbers that range from 1 to 49. A key component of this drawing is that it is done *without replacement*, meaning when one number is drawn, it is not put back into the set to be potentially chosen again. Also, the order of the numbers on the ticket do not matter for winning.\n",
    "\n",
    "## Helper Functions to develop\n",
    "\n",
    "Now, in order to answer the above questions, we,'ll need to create some functions that help us easily calculate **factorials** and the number of **combinations** (since, as stated above, the order does not matter for winning)."
   ]
  },
  {
   "cell_type": "code",
   "execution_count": 2,
   "metadata": {},
   "outputs": [
    {
     "name": "stdout",
     "output_type": "stream",
     "text": [
      "120\n"
     ]
    }
   ],
   "source": [
    "# Create the factorial function\n",
    "# n is the number of objects in the set\n",
    "def factorial(n):\n",
    "    \n",
    "    # we'll start at 1 because if we start at 0, as you'll see below, we'll keep multiplying...\n",
    "    # ...by 0, which would just give us 0\n",
    "    result = 1\n",
    "    \n",
    "    # as factorials go, we'll start at n, then go down by 1 until we get to 1\n",
    "    for number in range(n, 1, -1):\n",
    "        result = result * number\n",
    "    return result\n",
    "\n",
    "# test out the factorial function. The below should give us 120\n",
    "print(factorial(5))"
   ]
  },
  {
   "cell_type": "code",
   "execution_count": 3,
   "metadata": {},
   "outputs": [
    {
     "name": "stdout",
     "output_type": "stream",
     "text": [
      "2203961430.0\n"
     ]
    }
   ],
   "source": [
    "# Create the combinations function using the factorial function to help us\n",
    "# n is the number of objects in the set\n",
    "# k is the number of objects that we take out/care about\n",
    "def combinations(n, k):\n",
    "    permutations = factorial(n) / factorial(n - k)\n",
    "    result = permutations / factorial(k)\n",
    "    return result\n",
    "\n",
    "# test out the combinations function. It should result in 2203961430\n",
    "print(combinations(34, 18))"
   ]
  },
  {
   "cell_type": "markdown",
   "metadata": {},
   "source": [
    "# Function for our first question - what is the probability of winning the big prize?\n",
    "\n",
    "The first function we'll develop to be used by the app is a function that provides the probability of hitting the jackpot. We want this function to do the following:\n",
    "\n",
    "- Take in 6 unique numbers as inputs from 1 to 49\n",
    "- Bundle these six numbers into a Python list as an input for our function\n",
    "- Print the probability value in a friendly, readable way for our users"
   ]
  },
  {
   "cell_type": "code",
   "execution_count": 4,
   "metadata": {},
   "outputs": [
    {
     "name": "stdout",
     "output_type": "stream",
     "text": [
      "The probability of winning for that combination \n",
      "    (and every combination you put in for that matter\") is 0.0000071511%\n",
      "The probability of winning for that combination \n",
      "    (and every combination you put in for that matter\") is 0.0000071511%\n"
     ]
    }
   ],
   "source": [
    "# create a function with the above specifications\n",
    "def one_ticket_probability(list_of_six):\n",
    "    \n",
    "    # calculate total number of combinations for 6/49 lottery\n",
    "    n_combinations = combinations(49, 6)\n",
    "    \n",
    "    # calculate the probability of getting the one right combination\n",
    "    probability_winning = (1 / n_combinations) * 100\n",
    "    \n",
    "    # create message to show user\n",
    "    message = \"\"\"The probability of winning for that combination \n",
    "    (and every combination you put in for that matter\") is {:.10f}%\"\"\"\n",
    "    message_with_probability = message.format(probability_winning)\n",
    "    \n",
    "    # return the message\n",
    "    return message_with_probability\n",
    "    \n",
    "\n",
    "# test function\n",
    "print(one_ticket_probability([1,2,3,4,5,6]))\n",
    "print(one_ticket_probability([28,29,30,31,32,33]))"
   ]
  },
  {
   "cell_type": "markdown",
   "metadata": {},
   "source": [
    "# Comparing ticket to historical wins\n",
    "\n",
    "We also want to provide users the ability to check if their ticket had won in the past. We'll use kaggle's dataset mentioned above to check whether the numbers selected had won in the past."
   ]
  },
  {
   "cell_type": "code",
   "execution_count": 5,
   "metadata": {},
   "outputs": [
    {
     "data": {
      "text/html": [
       "<div>\n",
       "<style scoped>\n",
       "    .dataframe tbody tr th:only-of-type {\n",
       "        vertical-align: middle;\n",
       "    }\n",
       "\n",
       "    .dataframe tbody tr th {\n",
       "        vertical-align: top;\n",
       "    }\n",
       "\n",
       "    .dataframe thead th {\n",
       "        text-align: right;\n",
       "    }\n",
       "</style>\n",
       "<table border=\"1\" class=\"dataframe\">\n",
       "  <thead>\n",
       "    <tr style=\"text-align: right;\">\n",
       "      <th></th>\n",
       "      <th>PRODUCT</th>\n",
       "      <th>DRAW NUMBER</th>\n",
       "      <th>SEQUENCE NUMBER</th>\n",
       "      <th>DRAW DATE</th>\n",
       "      <th>NUMBER DRAWN 1</th>\n",
       "      <th>NUMBER DRAWN 2</th>\n",
       "      <th>NUMBER DRAWN 3</th>\n",
       "      <th>NUMBER DRAWN 4</th>\n",
       "      <th>NUMBER DRAWN 5</th>\n",
       "      <th>NUMBER DRAWN 6</th>\n",
       "      <th>BONUS NUMBER</th>\n",
       "    </tr>\n",
       "  </thead>\n",
       "  <tbody>\n",
       "    <tr>\n",
       "      <th>0</th>\n",
       "      <td>649</td>\n",
       "      <td>1</td>\n",
       "      <td>0</td>\n",
       "      <td>6/12/1982</td>\n",
       "      <td>3</td>\n",
       "      <td>11</td>\n",
       "      <td>12</td>\n",
       "      <td>14</td>\n",
       "      <td>41</td>\n",
       "      <td>43</td>\n",
       "      <td>13</td>\n",
       "    </tr>\n",
       "    <tr>\n",
       "      <th>1</th>\n",
       "      <td>649</td>\n",
       "      <td>2</td>\n",
       "      <td>0</td>\n",
       "      <td>6/19/1982</td>\n",
       "      <td>8</td>\n",
       "      <td>33</td>\n",
       "      <td>36</td>\n",
       "      <td>37</td>\n",
       "      <td>39</td>\n",
       "      <td>41</td>\n",
       "      <td>9</td>\n",
       "    </tr>\n",
       "    <tr>\n",
       "      <th>2</th>\n",
       "      <td>649</td>\n",
       "      <td>3</td>\n",
       "      <td>0</td>\n",
       "      <td>6/26/1982</td>\n",
       "      <td>1</td>\n",
       "      <td>6</td>\n",
       "      <td>23</td>\n",
       "      <td>24</td>\n",
       "      <td>27</td>\n",
       "      <td>39</td>\n",
       "      <td>34</td>\n",
       "    </tr>\n",
       "    <tr>\n",
       "      <th>3</th>\n",
       "      <td>649</td>\n",
       "      <td>4</td>\n",
       "      <td>0</td>\n",
       "      <td>7/3/1982</td>\n",
       "      <td>3</td>\n",
       "      <td>9</td>\n",
       "      <td>10</td>\n",
       "      <td>13</td>\n",
       "      <td>20</td>\n",
       "      <td>43</td>\n",
       "      <td>34</td>\n",
       "    </tr>\n",
       "    <tr>\n",
       "      <th>4</th>\n",
       "      <td>649</td>\n",
       "      <td>5</td>\n",
       "      <td>0</td>\n",
       "      <td>7/10/1982</td>\n",
       "      <td>5</td>\n",
       "      <td>14</td>\n",
       "      <td>21</td>\n",
       "      <td>31</td>\n",
       "      <td>34</td>\n",
       "      <td>47</td>\n",
       "      <td>45</td>\n",
       "    </tr>\n",
       "  </tbody>\n",
       "</table>\n",
       "</div>"
      ],
      "text/plain": [
       "   PRODUCT  DRAW NUMBER  SEQUENCE NUMBER  DRAW DATE  NUMBER DRAWN 1  \\\n",
       "0      649            1                0  6/12/1982               3   \n",
       "1      649            2                0  6/19/1982               8   \n",
       "2      649            3                0  6/26/1982               1   \n",
       "3      649            4                0   7/3/1982               3   \n",
       "4      649            5                0  7/10/1982               5   \n",
       "\n",
       "   NUMBER DRAWN 2  NUMBER DRAWN 3  NUMBER DRAWN 4  NUMBER DRAWN 5  \\\n",
       "0              11              12              14              41   \n",
       "1              33              36              37              39   \n",
       "2               6              23              24              27   \n",
       "3               9              10              13              20   \n",
       "4              14              21              31              34   \n",
       "\n",
       "   NUMBER DRAWN 6  BONUS NUMBER  \n",
       "0              43            13  \n",
       "1              41             9  \n",
       "2              39            34  \n",
       "3              43            34  \n",
       "4              47            45  "
      ]
     },
     "execution_count": 5,
     "metadata": {},
     "output_type": "execute_result"
    }
   ],
   "source": [
    "# import pandas\n",
    "import pandas as pd\n",
    "\n",
    "# read in the dataset\n",
    "historical_649 = pd.read_csv(\"649.csv\")\n",
    "\n",
    "# let's look at the first five rows of the dataset\n",
    "historical_649.head()"
   ]
  },
  {
   "cell_type": "code",
   "execution_count": 6,
   "metadata": {},
   "outputs": [
    {
     "data": {
      "text/html": [
       "<div>\n",
       "<style scoped>\n",
       "    .dataframe tbody tr th:only-of-type {\n",
       "        vertical-align: middle;\n",
       "    }\n",
       "\n",
       "    .dataframe tbody tr th {\n",
       "        vertical-align: top;\n",
       "    }\n",
       "\n",
       "    .dataframe thead th {\n",
       "        text-align: right;\n",
       "    }\n",
       "</style>\n",
       "<table border=\"1\" class=\"dataframe\">\n",
       "  <thead>\n",
       "    <tr style=\"text-align: right;\">\n",
       "      <th></th>\n",
       "      <th>PRODUCT</th>\n",
       "      <th>DRAW NUMBER</th>\n",
       "      <th>SEQUENCE NUMBER</th>\n",
       "      <th>DRAW DATE</th>\n",
       "      <th>NUMBER DRAWN 1</th>\n",
       "      <th>NUMBER DRAWN 2</th>\n",
       "      <th>NUMBER DRAWN 3</th>\n",
       "      <th>NUMBER DRAWN 4</th>\n",
       "      <th>NUMBER DRAWN 5</th>\n",
       "      <th>NUMBER DRAWN 6</th>\n",
       "      <th>BONUS NUMBER</th>\n",
       "    </tr>\n",
       "  </thead>\n",
       "  <tbody>\n",
       "    <tr>\n",
       "      <th>3660</th>\n",
       "      <td>649</td>\n",
       "      <td>3587</td>\n",
       "      <td>0</td>\n",
       "      <td>6/6/2018</td>\n",
       "      <td>10</td>\n",
       "      <td>15</td>\n",
       "      <td>23</td>\n",
       "      <td>38</td>\n",
       "      <td>40</td>\n",
       "      <td>41</td>\n",
       "      <td>35</td>\n",
       "    </tr>\n",
       "    <tr>\n",
       "      <th>3661</th>\n",
       "      <td>649</td>\n",
       "      <td>3588</td>\n",
       "      <td>0</td>\n",
       "      <td>6/9/2018</td>\n",
       "      <td>19</td>\n",
       "      <td>25</td>\n",
       "      <td>31</td>\n",
       "      <td>36</td>\n",
       "      <td>46</td>\n",
       "      <td>47</td>\n",
       "      <td>26</td>\n",
       "    </tr>\n",
       "    <tr>\n",
       "      <th>3662</th>\n",
       "      <td>649</td>\n",
       "      <td>3589</td>\n",
       "      <td>0</td>\n",
       "      <td>6/13/2018</td>\n",
       "      <td>6</td>\n",
       "      <td>22</td>\n",
       "      <td>24</td>\n",
       "      <td>31</td>\n",
       "      <td>32</td>\n",
       "      <td>34</td>\n",
       "      <td>16</td>\n",
       "    </tr>\n",
       "    <tr>\n",
       "      <th>3663</th>\n",
       "      <td>649</td>\n",
       "      <td>3590</td>\n",
       "      <td>0</td>\n",
       "      <td>6/16/2018</td>\n",
       "      <td>2</td>\n",
       "      <td>15</td>\n",
       "      <td>21</td>\n",
       "      <td>31</td>\n",
       "      <td>38</td>\n",
       "      <td>49</td>\n",
       "      <td>8</td>\n",
       "    </tr>\n",
       "    <tr>\n",
       "      <th>3664</th>\n",
       "      <td>649</td>\n",
       "      <td>3591</td>\n",
       "      <td>0</td>\n",
       "      <td>6/20/2018</td>\n",
       "      <td>14</td>\n",
       "      <td>24</td>\n",
       "      <td>31</td>\n",
       "      <td>35</td>\n",
       "      <td>37</td>\n",
       "      <td>48</td>\n",
       "      <td>17</td>\n",
       "    </tr>\n",
       "  </tbody>\n",
       "</table>\n",
       "</div>"
      ],
      "text/plain": [
       "      PRODUCT  DRAW NUMBER  SEQUENCE NUMBER  DRAW DATE  NUMBER DRAWN 1  \\\n",
       "3660      649         3587                0   6/6/2018              10   \n",
       "3661      649         3588                0   6/9/2018              19   \n",
       "3662      649         3589                0  6/13/2018               6   \n",
       "3663      649         3590                0  6/16/2018               2   \n",
       "3664      649         3591                0  6/20/2018              14   \n",
       "\n",
       "      NUMBER DRAWN 2  NUMBER DRAWN 3  NUMBER DRAWN 4  NUMBER DRAWN 5  \\\n",
       "3660              15              23              38              40   \n",
       "3661              25              31              36              46   \n",
       "3662              22              24              31              32   \n",
       "3663              15              21              31              38   \n",
       "3664              24              31              35              37   \n",
       "\n",
       "      NUMBER DRAWN 6  BONUS NUMBER  \n",
       "3660              41            35  \n",
       "3661              47            26  \n",
       "3662              34            16  \n",
       "3663              49             8  \n",
       "3664              48            17  "
      ]
     },
     "execution_count": 6,
     "metadata": {},
     "output_type": "execute_result"
    }
   ],
   "source": [
    "# let's look at the last 5 rows of the dataset\n",
    "historical_649.tail()"
   ]
  },
  {
   "cell_type": "code",
   "execution_count": 7,
   "metadata": {},
   "outputs": [
    {
     "data": {
      "text/plain": [
       "(3665, 11)"
      ]
     },
     "execution_count": 7,
     "metadata": {},
     "output_type": "execute_result"
    }
   ],
   "source": [
    "# check the size of the dataset\n",
    "historical_649.shape"
   ]
  },
  {
   "cell_type": "markdown",
   "metadata": {},
   "source": [
    "# Function for seeing historical wins for numbers selected\n",
    "\n",
    "With our historical wins dataset read into a dataframe, let's now create a function that does the following:\n",
    "\n",
    "- Takes in 6 unique numbers as inputs from 1 to 49\n",
    "- Bundles these six numbers into a Python list as an input for our function\n",
    "- Checks how many times the combination occurred in the past winners\n",
    "- Shows the probability of the combination winning the next round\n",
    "\n",
    "We'll create two functions - one for extracting the winning sets of numbers, and the other checking how many times an inputted list of numbers matches a previous win along with providing the probability of winning the next round."
   ]
  },
  {
   "cell_type": "code",
   "execution_count": 8,
   "metadata": {},
   "outputs": [
    {
     "name": "stdout",
     "output_type": "stream",
     "text": [
      "{3, 41, 11, 12, 43, 14}\n"
     ]
    }
   ],
   "source": [
    "# first, we'll create a function for extracting the winning numbers and putting them in a Python set\n",
    "def extract_numbers(row):\n",
    "    number_list = [row[\"NUMBER DRAWN 1\"],row[\"NUMBER DRAWN 2\"],row[\"NUMBER DRAWN 3\"],\n",
    "                   row[\"NUMBER DRAWN 4\"],row[\"NUMBER DRAWN 5\"],row[\"NUMBER DRAWN 6\"]]\n",
    "    return set(number_list)\n",
    "\n",
    "# test the function\n",
    "print(extract_numbers(historical_649.iloc[0]))"
   ]
  },
  {
   "cell_type": "code",
   "execution_count": 9,
   "metadata": {},
   "outputs": [
    {
     "name": "stdout",
     "output_type": "stream",
     "text": [
      "0        {3, 41, 11, 12, 43, 14}\n",
      "1        {33, 36, 37, 39, 8, 41}\n",
      "2         {1, 6, 39, 23, 24, 27}\n",
      "3         {3, 9, 10, 43, 13, 20}\n",
      "4        {34, 5, 14, 47, 21, 31}\n",
      "5        {8, 41, 20, 21, 25, 31}\n",
      "6       {33, 36, 42, 18, 25, 28}\n",
      "7        {7, 40, 16, 17, 48, 31}\n",
      "8        {37, 5, 38, 10, 23, 27}\n",
      "9        {4, 37, 46, 15, 48, 30}\n",
      "10        {33, 38, 7, 9, 42, 21}\n",
      "11      {36, 11, 43, 17, 19, 20}\n",
      "12       {37, 7, 14, 47, 17, 20}\n",
      "13      {35, 44, 25, 28, 29, 30}\n",
      "14       {36, 39, 8, 41, 47, 18}\n",
      "15       {9, 12, 13, 14, 44, 48}\n",
      "16       {4, 40, 43, 44, 14, 18}\n",
      "17      {34, 35, 36, 13, 16, 18}\n",
      "18      {36, 11, 23, 25, 28, 29}\n",
      "19       {37, 7, 45, 18, 23, 25}\n",
      "20      {37, 11, 45, 18, 19, 31}\n",
      "21       {8, 14, 16, 48, 18, 31}\n",
      "22       {4, 11, 45, 23, 24, 25}\n",
      "23        {33, 34, 3, 4, 48, 19}\n",
      "24       {5, 43, 17, 21, 28, 30}\n",
      "25       {36, 6, 38, 46, 17, 24}\n",
      "26        {4, 9, 10, 11, 43, 46}\n",
      "27       {32, 33, 7, 13, 45, 23}\n",
      "28      {35, 37, 11, 18, 22, 28}\n",
      "29      {35, 45, 48, 25, 26, 31}\n",
      "                  ...           \n",
      "3635     {2, 10, 43, 44, 48, 28}\n",
      "3636      {1, 33, 9, 10, 43, 19}\n",
      "3637    {35, 43, 44, 46, 16, 17}\n",
      "3638       {1, 5, 39, 9, 41, 12}\n",
      "3639     {9, 11, 45, 49, 28, 30}\n",
      "3640    {11, 12, 46, 19, 24, 28}\n",
      "3641      {3, 7, 43, 47, 22, 26}\n",
      "3642       {34, 6, 8, 9, 40, 13}\n",
      "3643    {36, 40, 47, 49, 18, 22}\n",
      "3644      {32, 3, 7, 41, 10, 43}\n",
      "3645     {1, 36, 11, 48, 49, 19}\n",
      "3646    {39, 12, 17, 19, 22, 27}\n",
      "3647    {41, 12, 49, 19, 20, 30}\n",
      "3648    {40, 10, 14, 15, 16, 46}\n",
      "3649    {33, 34, 44, 46, 24, 31}\n",
      "3650      {4, 37, 36, 7, 49, 28}\n",
      "3651     {33, 4, 48, 18, 24, 26}\n",
      "3652    {36, 37, 15, 17, 21, 24}\n",
      "3653     {34, 37, 6, 44, 17, 21}\n",
      "3654    {39, 46, 19, 21, 28, 30}\n",
      "3655    {34, 38, 44, 14, 15, 28}\n",
      "3656      {4, 9, 42, 44, 15, 20}\n",
      "3657    {39, 12, 13, 44, 16, 23}\n",
      "3658     {38, 39, 9, 14, 17, 21}\n",
      "3659     {32, 2, 40, 45, 49, 26}\n",
      "3660    {38, 40, 41, 10, 15, 23}\n",
      "3661    {36, 46, 47, 19, 25, 31}\n",
      "3662     {32, 34, 6, 22, 24, 31}\n",
      "3663     {2, 38, 15, 49, 21, 31}\n",
      "3664    {35, 37, 14, 48, 24, 31}\n",
      "Length: 3665, dtype: object\n"
     ]
    }
   ],
   "source": [
    "# with that working above, let's get our winning_number_sets\n",
    "winning_number_sets = historical_649.apply(extract_numbers,axis=1)\n",
    "\n",
    "# check that it worked\n",
    "print(winning_number_sets)"
   ]
  },
  {
   "cell_type": "code",
   "execution_count": 10,
   "metadata": {},
   "outputs": [
    {
     "name": "stdout",
     "output_type": "stream",
     "text": [
      "The amount of times that your combination won in the past is 1.\n",
      "You still have a 0.0000071511% chance of winning though :(\n"
     ]
    }
   ],
   "source": [
    "# now we'll create a function checking to see if an inputted list of numbers matches any one of the sets above\n",
    "def check_historical_occurence(user_inputted_numbers,winning_sets):\n",
    "    # make the user_inputted_numbers list a set\n",
    "    set_user_inputted_numbers = set(user_inputted_numbers)\n",
    "    \n",
    "    # check if the set exists in the winning_sets and if so, how many times\n",
    "    total = winning_sets[winning_sets == set_user_inputted_numbers].shape[0]\n",
    "    \n",
    "    # we'll also add the probability of winning 6/49 with the numbers chosen\n",
    "    n_combinations = combinations(49, 6)\n",
    "    probability_winning = 1 / n_combinations * 100\n",
    "    \n",
    "    # now we'll create a message to print out to the user\n",
    "    message1 = \"The amount of times that your combination won in the past is \" + str(total) + \".\"\n",
    "    message2 = \"You still have a {:.10f}% chance of winning though :(\".format(probability_winning)\n",
    "    final_message = message1 + \"\\n\" + message2\n",
    "    \n",
    "    # return the total\n",
    "    return final_message\n",
    "\n",
    "# test the function\n",
    "print(check_historical_occurence([3,41,11,12,14,43],winning_number_sets))"
   ]
  },
  {
   "cell_type": "code",
   "execution_count": 11,
   "metadata": {},
   "outputs": [
    {
     "name": "stdout",
     "output_type": "stream",
     "text": [
      "The amount of times that your combination won in the past is 2.\n",
      "You still have a 0.0000071511% chance of winning though :(\n"
     ]
    }
   ],
   "source": [
    "# in order to test to make sure that sets that appear multiple times are winners...\n",
    "# let's add the test set we used into the series  to make sure we capture all of the times it appears\n",
    "test_winning_number_sets = winning_number_sets\n",
    "additional_row = pd.Series([{3,41,11,12,14,43}])\n",
    "new_test = test_winning_number_sets.append(additional_row)\n",
    "\n",
    "# test the function again\n",
    "print(check_historical_occurence([3,41,11,12,14,43],new_test))"
   ]
  },
  {
   "cell_type": "markdown",
   "metadata": {},
   "source": [
    "# What if I buy multiple tickets? - A function that will provide probability of winning in this case\n",
    "\n",
    "Buying more tickets may lead one to believe that they are significantly increasing their odds of winning, but we'll create a function that shows what our probability really is based on the number of tickets we put in.\n",
    "\n",
    "Our function will do the following:\n",
    "- Take in the number of tickets that the user is planning to purchase\n",
    "- Show the probability of winning the big prize based on the number of tickets bought"
   ]
  },
  {
   "cell_type": "code",
   "execution_count": 12,
   "metadata": {},
   "outputs": [
    {
     "name": "stdout",
     "output_type": "stream",
     "text": [
      "Even if you bought 1 ticket(s), your chance of winning is only 0.0000071511%\n"
     ]
    }
   ],
   "source": [
    "# create the function mentioned above\n",
    "def multi_ticket_probability(number_of_tickets):\n",
    "    n_combinations = combinations(49,6)\n",
    "    probability_winning = number_of_tickets / n_combinations * 100\n",
    "    message = \"Even if you bought \" + str(number_of_tickets) + \" ticket(s), your chance of winning is only {:.10f}%\".format(probability_winning)\n",
    "    return message\n",
    "\n",
    "# test the function\n",
    "print(multi_ticket_probability(1))"
   ]
  },
  {
   "cell_type": "markdown",
   "metadata": {},
   "source": [
    "# Probability of getting two, three, four, or five numbers right function\n",
    "\n",
    "In addition to hitting the jackpot with having all six numbers, participants can also earn prizes for having at least two numbers that match the winning numbers. The more numbers that you have matching, the bigger the prize. \n",
    "\n",
    "To determine the probability of winning in one of these categories, we'll create a function that will do the following:\n",
    "- Take in six numbers that the participant chooses\n",
    "- Take in an integer between two and five that represents the number of winning numbers expected\n",
    "- Provide the probability of winning based on the number of winning numbers expected"
   ]
  },
  {
   "cell_type": "code",
   "execution_count": 47,
   "metadata": {},
   "outputs": [
    {
     "name": "stdout",
     "output_type": "stream",
     "text": [
      "6: If you are going for 6 matching numbers, your probability of winning would be 0.0000071511%\n",
      "5: If you are going for 5 matching numbers, your probability of winning would be 0.0018878967%\n",
      "2: If you are going for 2 matching numbers, your probability of winning would be 19.1326530612%\n"
     ]
    }
   ],
   "source": [
    "# create the above function\n",
    "def probability_less_six(winning_numbers_expected):\n",
    "    \n",
    "    # playing 6/49 lottery rules\n",
    "    total_numbers_in_set = 6\n",
    "    total_numbers_to_choose_from = 49\n",
    "    \n",
    "    # come up with the number of winning outcomes\n",
    "    n_combinations_expected = combinations(total_numbers_in_set,winning_numbers_expected)\n",
    "    n_combinations_remaining = combinations(total_numbers_to_choose_from - winning_numbers_expected,\n",
    "                                           total_numbers_in_set - winning_numbers_expected)\n",
    "    n_winning_outcomes = n_combinations_remaining * n_combinations_expected\n",
    "    \n",
    "    # find the probability of winning based on the number of outcomes\n",
    "    total_outcomes = combinations(49,6)\n",
    "    probability_winning_subset = n_winning_outcomes / total_outcomes * 100\n",
    "    \n",
    "    # message to provide the user\n",
    "    message = \"If you are going for \" + str(winning_numbers_expected) + \" matching numbers, your probability of winning would be {:.10f}%\".format(probability_winning_subset)\n",
    "\n",
    "    return message\n",
    "\n",
    "# test the above function\n",
    "print(\"6:\",probability_less_six(6))\n",
    "print(\"5:\",probability_less_six(5))\n",
    "print(\"2:\",probability_less_six(2))"
   ]
  },
  {
   "cell_type": "markdown",
   "metadata": {},
   "source": [
    "# Conclusion\n",
    "\n",
    "In this project, we created the following four functions that could be used for a mobile app to help combat an addiction to the 6/49 lottery by giving folks a quick reference of just what their probability of winning is exactly.\n",
    "- one_ticket_probability: gives the user the probability of hitting the jackpot of the 6/49 lottery\n",
    "- check_historical_occurence: looks up historical winnings and tells user how many times their inputted number set won in the past and then provides the probability of that set winning again. Regardless of past performance, the probability is still the same as the output in the one_ticket_probability function above.\n",
    "- multi_ticket_probability: tells the user their probability of winning based on how many tickets they buy.\n",
    "- probability_less_six: since the 6/49 lottery offers smaller prizes to those who get at least two of the correct numbers, this function gives the user the probability of winning a smaller prize for getting two or up to five correct numbers instead of all six.\n",
    "\n",
    "Thank you for reading, and don't play the lottery!"
   ]
  },
  {
   "cell_type": "code",
   "execution_count": null,
   "metadata": {},
   "outputs": [],
   "source": []
  }
 ],
 "metadata": {
  "kernelspec": {
   "display_name": "Python 3",
   "language": "python",
   "name": "python3"
  },
  "language_info": {
   "codemirror_mode": {
    "name": "ipython",
    "version": 3
   },
   "file_extension": ".py",
   "mimetype": "text/x-python",
   "name": "python",
   "nbconvert_exporter": "python",
   "pygments_lexer": "ipython3",
   "version": "3.6.5"
  }
 },
 "nbformat": 4,
 "nbformat_minor": 2
}
